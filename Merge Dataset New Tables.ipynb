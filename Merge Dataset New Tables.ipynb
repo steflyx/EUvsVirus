{
 "cells": [
  {
   "cell_type": "code",
   "execution_count": 1,
   "metadata": {},
   "outputs": [],
   "source": [
    "import pandas as pd"
   ]
  },
  {
   "cell_type": "code",
   "execution_count": 57,
   "metadata": {},
   "outputs": [],
   "source": [
    "#Answers to questionaire\n",
    "#df_run = pd.read_csv('Twitter/New/social_distancing_and_masks_task_run.csv')\n",
    "#df_task = pd.read_csv('Twitter/New/social_distancing_and_masks_task.csv')\n",
    "#df_output = pd.read_csv('Twitter/New/social_distancing_and_masks_result.csv')"
   ]
  },
  {
   "cell_type": "code",
   "execution_count": 17,
   "metadata": {},
   "outputs": [],
   "source": [
    "df_run = pd.read_csv('New tables/social_distancing_and_masks_task_run.csv')\n",
    "df_output = pd.read_csv('New tables/shuffled_2.csv')\n",
    "df_task = pd.read_csv('New tables/social_distancing_and_masks_task.csv')"
   ]
  },
  {
   "cell_type": "code",
   "execution_count": 18,
   "metadata": {},
   "outputs": [],
   "source": [
    "#Clean the dataset\n",
    "df_run.reset_index(inplace = True)\n",
    "df_run.drop(df_run.columns.difference(['task_id','info_0', 'info_1', 'info_2', 'info_3', 'info_4', 'info_5', 'info_6', 'info_7', 'info_8', 'info_9', 'media_url']), axis = 1, inplace = True)"
   ]
  },
  {
   "cell_type": "code",
   "execution_count": 19,
   "metadata": {},
   "outputs": [],
   "source": [
    "#Columns containing the answer to each question\n",
    "questions = ['info_0', 'info_1', 'info_2', 'info_3', 'info_4', 'info_5', 'info_6', 'info_7', 'info_8', 'info_9']\n",
    "id_column = 'task_id'\n",
    "df_run_grouped = pd.DataFrame(df_run[id_column].unique())\n",
    "df_run_grouped.columns = [id_column]\n",
    "\n",
    "#Majority vote for each id on each question\n",
    "for field in questions:\n",
    "    df_field = df_run[df_run[field].isna() == False].groupby(id_column)[field].apply(lambda x: x.value_counts().index[0]).reset_index()\n",
    "    df_run_grouped = df_run_grouped.join(df_field.set_index(id_column), on=id_column)"
   ]
  },
  {
   "cell_type": "code",
   "execution_count": 21,
   "metadata": {},
   "outputs": [],
   "source": [
    "df_image_url = df_task.drop(df_task.columns.difference(['id', 'info_image']), axis = 1)\n",
    "df_run_grouped = pd.merge(df_image_url, df_run_grouped, left_on='id', right_on='task_id')"
   ]
  },
  {
   "cell_type": "code",
   "execution_count": 23,
   "metadata": {},
   "outputs": [],
   "source": [
    "#Merge with info of the tweet and clean final dataset\n",
    "df_result = pd.merge(df_run_grouped, df_output, left_on='info_image', right_on='image')"
   ]
  },
  {
   "cell_type": "code",
   "execution_count": null,
   "metadata": {},
   "outputs": [],
   "source": []
  }
 ],
 "metadata": {
  "kernelspec": {
   "display_name": "Python 3",
   "language": "python",
   "name": "python3"
  },
  "language_info": {
   "codemirror_mode": {
    "name": "ipython",
    "version": 3
   },
   "file_extension": ".py",
   "mimetype": "text/x-python",
   "name": "python",
   "nbconvert_exporter": "python",
   "pygments_lexer": "ipython3",
   "version": "3.6.4"
  }
 },
 "nbformat": 4,
 "nbformat_minor": 2
}
