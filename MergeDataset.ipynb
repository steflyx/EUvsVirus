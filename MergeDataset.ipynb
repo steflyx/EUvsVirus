{
 "cells": [
  {
   "cell_type": "code",
   "execution_count": 86,
   "metadata": {},
   "outputs": [],
   "source": [
    "import pandas as pd"
   ]
  },
  {
   "cell_type": "code",
   "execution_count": 87,
   "metadata": {},
   "outputs": [],
   "source": [
    "#Answers to questionaire\n",
    "df_run = pd.read_csv('Twitter/masks4all_task_run.csv')"
   ]
  },
  {
   "cell_type": "code",
   "execution_count": 88,
   "metadata": {},
   "outputs": [],
   "source": [
    "#Columns containing the answer to each question\n",
    "questions = ['info_0', 'info_1', 'info_2', 'info_3', 'info_4']\n",
    "df_run_grouped = pd.DataFrame(df_run['id'].unique())\n",
    "df_run_grouped.columns = ['id']\n",
    "df_run_grouped.set_index('id')\n",
    "\n",
    "#Majority vote for each id on each question\n",
    "for field in questions:\n",
    "    df_field = df_run.groupby('id')[field].apply(lambda x: x.value_counts().index[0]).reset_index()\n",
    "    df_run_grouped = df_run_grouped.join(df_field.set_index('id'), on='id')"
   ]
  },
  {
   "cell_type": "code",
   "execution_count": 96,
   "metadata": {},
   "outputs": [],
   "source": [
    "#Dataset with info on img and tweets url\n",
    "df_task = pd.read_csv('Twitter/masks4all_task.csv')\n",
    "df_task.drop(df_task.columns.difference(['id','info_image', 'info_url']), 1, inplace=True)\n",
    "df_result = df_run_grouped.join(df_task.set_index('id'), on='id')"
   ]
  },
  {
   "cell_type": "code",
   "execution_count": null,
   "metadata": {},
   "outputs": [],
   "source": []
  }
 ],
 "metadata": {
  "kernelspec": {
   "display_name": "Python 3",
   "language": "python",
   "name": "python3"
  },
  "language_info": {
   "codemirror_mode": {
    "name": "ipython",
    "version": 3
   },
   "file_extension": ".py",
   "mimetype": "text/x-python",
   "name": "python",
   "nbconvert_exporter": "python",
   "pygments_lexer": "ipython3",
   "version": "3.6.4"
  }
 },
 "nbformat": 4,
 "nbformat_minor": 2
}
