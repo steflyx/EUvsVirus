{
 "cells": [
  {
   "cell_type": "code",
   "execution_count": 48,
   "metadata": {},
   "outputs": [],
   "source": [
    "import pandas as pd"
   ]
  },
  {
   "cell_type": "code",
   "execution_count": 55,
   "metadata": {},
   "outputs": [],
   "source": [
    "#Answers to questionaire\n",
    "df_run = pd.read_csv('Twitter/masks4all_task_run.csv')\n",
    "df_task = pd.read_csv('Twitter/masks4all_task.csv')\n",
    "df_output = pd.read_csv('Twitter/tweets-5-4_output.csv')\n",
    "\n",
    "df_run.set_index('id', inplace = True)\n",
    "df_task.set_index('id', inplace = True)"
   ]
  },
  {
   "cell_type": "code",
   "execution_count": 56,
   "metadata": {},
   "outputs": [],
   "source": [
    "#Retrieve the image url from the task dataset\n",
    "df_task.drop(df_task.columns.difference(['info_image']), axis = 1, inplace = True)\n",
    "df_run = df_run.join(df_task, on = 'id')"
   ]
  },
  {
   "cell_type": "code",
   "execution_count": 57,
   "metadata": {},
   "outputs": [],
   "source": [
    "#Clean the dataset\n",
    "df_run.reset_index(inplace = True)\n",
    "df_run.drop(df_run.columns.difference(['info_0', 'info_1', 'info_2', 'info_3', 'info_4', 'info_image']), axis = 1, inplace = True)"
   ]
  },
  {
   "cell_type": "code",
   "execution_count": 58,
   "metadata": {},
   "outputs": [],
   "source": [
    "#Columns containing the answer to each question\n",
    "questions = ['info_0', 'info_1', 'info_2', 'info_3', 'info_4']\n",
    "id_column = 'info_image'\n",
    "df_run_grouped = pd.DataFrame(df_run[id_column].unique())\n",
    "df_run_grouped.columns = [id_column]\n",
    "\n",
    "#Majority vote for each id on each question\n",
    "for field in questions:\n",
    "    df_field = df_run.groupby(id_column)[field].apply(lambda x: x.value_counts().index[0]).reset_index()\n",
    "    df_run_grouped = df_run_grouped.join(df_field.set_index(id_column), on=id_column)"
   ]
  },
  {
   "cell_type": "code",
   "execution_count": 59,
   "metadata": {},
   "outputs": [
    {
     "data": {
      "text/html": [
       "<div>\n",
       "<style scoped>\n",
       "    .dataframe tbody tr th:only-of-type {\n",
       "        vertical-align: middle;\n",
       "    }\n",
       "\n",
       "    .dataframe tbody tr th {\n",
       "        vertical-align: top;\n",
       "    }\n",
       "\n",
       "    .dataframe thead th {\n",
       "        text-align: right;\n",
       "    }\n",
       "</style>\n",
       "<table border=\"1\" class=\"dataframe\">\n",
       "  <thead>\n",
       "    <tr style=\"text-align: right;\">\n",
       "      <th></th>\n",
       "      <th>info_image</th>\n",
       "      <th>info_0</th>\n",
       "      <th>info_1</th>\n",
       "      <th>info_2</th>\n",
       "      <th>info_3</th>\n",
       "      <th>info_4</th>\n",
       "    </tr>\n",
       "  </thead>\n",
       "  <tbody>\n",
       "    <tr>\n",
       "      <th>30</th>\n",
       "      <td>http://pbs.twimg.com/media/EU1nYFSXYAE_CAZ.jpg</td>\n",
       "      <td>No</td>\n",
       "      <td>No</td>\n",
       "      <td>No</td>\n",
       "      <td>No mask in image</td>\n",
       "      <td>No</td>\n",
       "    </tr>\n",
       "  </tbody>\n",
       "</table>\n",
       "</div>"
      ],
      "text/plain": [
       "                                        info_image info_0 info_1 info_2  \\\n",
       "30  http://pbs.twimg.com/media/EU1nYFSXYAE_CAZ.jpg     No     No     No   \n",
       "\n",
       "              info_3 info_4  \n",
       "30  No mask in image     No  "
      ]
     },
     "execution_count": 59,
     "metadata": {},
     "output_type": "execute_result"
    }
   ],
   "source": [
    "df_run_grouped[df_run_grouped['info_image'] == 'http://pbs.twimg.com/media/EU1nYFSXYAE_CAZ.jpg']"
   ]
  },
  {
   "cell_type": "code",
   "execution_count": 60,
   "metadata": {},
   "outputs": [],
   "source": [
    "#Merge with info of the tweet\n",
    "df_result = pd.merge(df_run_grouped, df_output, left_on='info_image', right_on='media_url')"
   ]
  },
  {
   "cell_type": "code",
   "execution_count": null,
   "metadata": {},
   "outputs": [],
   "source": [
    "#Final output\n",
    "df_result"
   ]
  }
 ],
 "metadata": {
  "kernelspec": {
   "display_name": "Python 3",
   "language": "python",
   "name": "python3"
  },
  "language_info": {
   "codemirror_mode": {
    "name": "ipython",
    "version": 3
   },
   "file_extension": ".py",
   "mimetype": "text/x-python",
   "name": "python",
   "nbconvert_exporter": "python",
   "pygments_lexer": "ipython3",
   "version": "3.6.4"
  }
 },
 "nbformat": 4,
 "nbformat_minor": 2
}
